{
 "cells": [
  {
   "cell_type": "code",
   "execution_count": 57,
   "metadata": {},
   "outputs": [],
   "source": [
    "import praw\n",
    "import pandas as pd\n",
    "from datetime import datetime\n",
    "\n",
    "reddit = praw.Reddit(client_id='pnEkh7Dal3UOXA',\n",
    "                     client_secret='xlXGIVSm554ODp2HrTdaGbP35Tc',\n",
    "                     user_agent='match-thread-analyzer')"
   ]
  },
  {
   "cell_type": "code",
   "execution_count": 2,
   "metadata": {},
   "outputs": [],
   "source": [
    "submission = reddit.submission(url='https://www.reddit.com/r/coys/comments/8j3tx0/match_thread_spurs_v_leicester_pl_13_may_2018/')"
   ]
  },
  {
   "cell_type": "code",
   "execution_count": 3,
   "metadata": {},
   "outputs": [],
   "source": [
    "submission.comments.replace_more(limit=None)\n",
    "matchday_comments = []\n",
    "for comment in submission.comments.list():\n",
    "     matchday_comments.append(comment.body)"
   ]
  },
  {
   "cell_type": "code",
   "execution_count": 6,
   "metadata": {},
   "outputs": [],
   "source": [
    "matchday_comment_instances = [comment for comment in submission.comments.list()]    "
   ]
  },
  {
   "cell_type": "code",
   "execution_count": 76,
   "metadata": {},
   "outputs": [],
   "source": [
    "karma = [comment.score for comment in matchday_comment_instances]\n",
    "body = [comment.body for comment in matchday_comment_instances]\n",
    "author = [comment.author for comment in matchday_comment_instances]\n",
    "year = [datetime.utcfromtimestamp(comment.created_utc).year for comment in matchday_comment_instances]\n",
    "month = [datetime.utcfromtimestamp(comment.created_utc).month for comment in matchday_comment_instances]\n",
    "day = [datetime.utcfromtimestamp(comment.created_utc).day for comment in matchday_comment_instances]\n",
    "hour = [datetime.utcfromtimestamp(comment.created_utc).hour for comment in matchday_comment_instances]\n",
    "minute = [datetime.utcfromtimestamp(comment.created_utc).minute for comment in matchday_comment_instances]"
   ]
  }
 ],
 "metadata": {
  "kernelspec": {
   "display_name": "Python 3",
   "language": "python",
   "name": "python3"
  },
  "language_info": {
   "codemirror_mode": {
    "name": "ipython",
    "version": 3
   },
   "file_extension": ".py",
   "mimetype": "text/x-python",
   "name": "python",
   "nbconvert_exporter": "python",
   "pygments_lexer": "ipython3",
   "version": "3.6.4"
  }
 },
 "nbformat": 4,
 "nbformat_minor": 2
}
